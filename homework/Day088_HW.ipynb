{
 "cells": [
  {
   "cell_type": "markdown",
   "metadata": {},
   "source": [
    "## Work\n",
    "1. 請嘗試寫一個 callback 用來記錄各類別在訓練過程中，對驗證集的 True Positive 與 True Negative"
   ]
  },
  {
   "cell_type": "code",
   "execution_count": 1,
   "metadata": {},
   "outputs": [
    {
     "name": "stderr",
     "output_type": "stream",
     "text": [
      "Using TensorFlow backend.\n"
     ]
    }
   ],
   "source": [
    "import os\n",
    "import keras\n",
    "\n",
    "# Disable GPU\n",
    "os.environ[\"CUDA_VISIBLE_DEVICES\"] = \"\""
   ]
  },
  {
   "cell_type": "code",
   "execution_count": 2,
   "metadata": {},
   "outputs": [],
   "source": [
    "train, test = keras.datasets.cifar10.load_data()"
   ]
  },
  {
   "cell_type": "code",
   "execution_count": 3,
   "metadata": {},
   "outputs": [],
   "source": [
    "## 資料前處理\n",
    "def preproc_x(x, flatten=True):\n",
    "    x = x / 255.\n",
    "    if flatten:\n",
    "        x = x.reshape((len(x), -1))\n",
    "    return x\n",
    "\n",
    "def preproc_y(y, num_classes=10):\n",
    "    if y.shape[-1] == 1:\n",
    "        y = keras.utils.to_categorical(y, num_classes)\n",
    "    return y    "
   ]
  },
  {
   "cell_type": "code",
   "execution_count": 4,
   "metadata": {},
   "outputs": [],
   "source": [
    "x_train, y_train = train\n",
    "x_test, y_test = test\n",
    "\n",
    "# Preproc the inputs\n",
    "x_train = preproc_x(x_train)\n",
    "x_test = preproc_x(x_test)\n",
    "\n",
    "# Preprc the outputs\n",
    "y_train = preproc_y(y_train)\n",
    "y_test = preproc_y(y_test)"
   ]
  },
  {
   "cell_type": "code",
   "execution_count": 5,
   "metadata": {},
   "outputs": [],
   "source": [
    "from keras.layers import BatchNormalization\n",
    "\n",
    "\"\"\"\n",
    "建立神經網路，並加入 BN layer\n",
    "\"\"\"\n",
    "def build_mlp(input_shape, output_units=10, num_neurons=[256, 256, 256]):\n",
    "    input_layer = keras.layers.Input(input_shape)\n",
    "    \n",
    "    for i, n_units in enumerate(num_neurons):\n",
    "        if i == 0:\n",
    "            x = keras.layers.Dense(units=n_units, \n",
    "                                   activation=\"relu\", \n",
    "                                   name=\"hidden_layer\"+str(i+1))(input_layer)\n",
    "            x = BatchNormalization()(x)\n",
    "        else:\n",
    "            x = keras.layers.Dense(units=n_units, \n",
    "                                   activation=\"relu\", \n",
    "                                   name=\"hidden_layer\"+str(i+1))(x)\n",
    "            x = BatchNormalization()(x)\n",
    "    \n",
    "    out = keras.layers.Dense(units=output_units, activation=\"softmax\", name=\"output\")(x)\n",
    "    \n",
    "    model = keras.models.Model(inputs=[input_layer], outputs=[out])\n",
    "    return model"
   ]
  },
  {
   "cell_type": "code",
   "execution_count": 6,
   "metadata": {},
   "outputs": [],
   "source": [
    "## 超參數設定\n",
    "LEARNING_RATE = 1e-3\n",
    "EPOCHS = 25\n",
    "BATCH_SIZE = 1024\n",
    "MOMENTUM = 0.95"
   ]
  },
  {
   "cell_type": "code",
   "execution_count": 7,
   "metadata": {},
   "outputs": [],
   "source": [
    "\n",
    "# 載入 Callbacks\n",
    "from keras.callbacks import Callback\n",
    "import numpy as np\n",
    "# Record_fp_tp\n",
    "class Record_tp_tn(Callback):\n",
    "    \"\"\"Code Here\n",
    "    撰寫一個紀錄 ture positive 與 true negative 數量的 callbacks    \n",
    "    \"\"\"\n",
    "    def on_train_begin(self, epoch, logs = {}):\n",
    "        logs = logs or {}\n",
    "        record_items = [\"val_auc\", \"true_positives\", \"true_negatives\", \"val_fp\", \"val_fn\", \"val_tp\", \"val_tn\"]\n",
    "        for i in record_items:\n",
    "            if i not in self.params['metrics']:\n",
    "                self.params['metrics'].append(i)\n",
    "    \n",
    "    def on_epoch_end(self, epoch, logs = {}, thres=0.5):\n",
    "        logs = logs or {}\n",
    "        y_true = self.validation_data[1].argmax(axis = 1)\n",
    "        y_pred = self.model.predict(self.validation_data[0])\n",
    "        y_pred = (y_pred[:, 1] >= thres) * 1\n",
    "        true_positives = np.sum(np.logical_and(y_pred == 1, y_true == 1)) #預測是1結果也是1\n",
    "        true_negatives = np.sum(np.logical_and(y_pred == 0, y_true == 0))\n",
    "        logs[\"true_positives\"] = true_positives\n",
    "        logs[\"true_negatives\"] = true_negatives\n",
    "        \n",
    "        \n",
    "\n",
    "rec_tptn = Record_tp_tn()"
   ]
  },
  {
   "cell_type": "code",
   "execution_count": 8,
   "metadata": {
    "scrolled": true
   },
   "outputs": [
    {
     "name": "stderr",
     "output_type": "stream",
     "text": [
      "WARNING: Logging before flag parsing goes to stderr.\n",
      "W0729 22:42:31.135654 13352 deprecation_wrapper.py:119] From C:\\Users\\a2279\\.conda\\envs\\tensorflow\\lib\\site-packages\\keras\\backend\\tensorflow_backend.py:74: The name tf.get_default_graph is deprecated. Please use tf.compat.v1.get_default_graph instead.\n",
      "\n",
      "W0729 22:42:33.325909 13352 deprecation_wrapper.py:119] From C:\\Users\\a2279\\.conda\\envs\\tensorflow\\lib\\site-packages\\keras\\backend\\tensorflow_backend.py:517: The name tf.placeholder is deprecated. Please use tf.compat.v1.placeholder instead.\n",
      "\n",
      "W0729 22:42:33.476014 13352 deprecation_wrapper.py:119] From C:\\Users\\a2279\\.conda\\envs\\tensorflow\\lib\\site-packages\\keras\\backend\\tensorflow_backend.py:4138: The name tf.random_uniform is deprecated. Please use tf.random.uniform instead.\n",
      "\n",
      "W0729 22:42:33.760749 13352 deprecation_wrapper.py:119] From C:\\Users\\a2279\\.conda\\envs\\tensorflow\\lib\\site-packages\\keras\\backend\\tensorflow_backend.py:133: The name tf.placeholder_with_default is deprecated. Please use tf.compat.v1.placeholder_with_default instead.\n",
      "\n",
      "W0729 22:42:34.327830 13352 deprecation_wrapper.py:119] From C:\\Users\\a2279\\.conda\\envs\\tensorflow\\lib\\site-packages\\keras\\optimizers.py:790: The name tf.train.Optimizer is deprecated. Please use tf.compat.v1.train.Optimizer instead.\n",
      "\n",
      "W0729 22:42:34.334846 13352 deprecation_wrapper.py:119] From C:\\Users\\a2279\\.conda\\envs\\tensorflow\\lib\\site-packages\\keras\\backend\\tensorflow_backend.py:3295: The name tf.log is deprecated. Please use tf.math.log instead.\n",
      "\n",
      "W0729 22:42:34.491654 13352 deprecation.py:323] From C:\\Users\\a2279\\.conda\\envs\\tensorflow\\lib\\site-packages\\tensorflow\\python\\ops\\math_grad.py:1250: add_dispatch_support.<locals>.wrapper (from tensorflow.python.ops.array_ops) is deprecated and will be removed in a future version.\n",
      "Instructions for updating:\n",
      "Use tf.where in 2.0, which has the same broadcast rule as np.where\n"
     ]
    },
    {
     "name": "stdout",
     "output_type": "stream",
     "text": [
      "_________________________________________________________________\n",
      "Layer (type)                 Output Shape              Param #   \n",
      "=================================================================\n",
      "input_1 (InputLayer)         (None, 3072)              0         \n",
      "_________________________________________________________________\n",
      "hidden_layer1 (Dense)        (None, 256)               786688    \n",
      "_________________________________________________________________\n",
      "batch_normalization_1 (Batch (None, 256)               1024      \n",
      "_________________________________________________________________\n",
      "hidden_layer2 (Dense)        (None, 256)               65792     \n",
      "_________________________________________________________________\n",
      "batch_normalization_2 (Batch (None, 256)               1024      \n",
      "_________________________________________________________________\n",
      "hidden_layer3 (Dense)        (None, 256)               65792     \n",
      "_________________________________________________________________\n",
      "batch_normalization_3 (Batch (None, 256)               1024      \n",
      "_________________________________________________________________\n",
      "output (Dense)               (None, 10)                2570      \n",
      "=================================================================\n",
      "Total params: 923,914\n",
      "Trainable params: 922,378\n",
      "Non-trainable params: 1,536\n",
      "_________________________________________________________________\n",
      "Train on 50000 samples, validate on 10000 samples\n",
      "Epoch 1/25\n",
      "50000/50000 [==============================] - 41s 814us/step - loss: 2.2216 - acc: 0.2680 - val_loss: 2.1831 - val_acc: 0.3018\n",
      "Epoch 2/25\n",
      "50000/50000 [==============================] - 5s 98us/step - loss: 1.7607 - acc: 0.3827 - val_loss: 1.8203 - val_acc: 0.3729\n",
      "Epoch 3/25\n",
      "50000/50000 [==============================] - 5s 96us/step - loss: 1.6337 - acc: 0.4262 - val_loss: 1.7061 - val_acc: 0.4044\n",
      "Epoch 4/25\n",
      "50000/50000 [==============================] - 5s 97us/step - loss: 1.5616 - acc: 0.4489 - val_loss: 1.6490 - val_acc: 0.4288\n",
      "Epoch 5/25\n",
      "50000/50000 [==============================] - 5s 98us/step - loss: 1.5073 - acc: 0.4705 - val_loss: 1.6106 - val_acc: 0.4326\n",
      "Epoch 6/25\n",
      "50000/50000 [==============================] - 5s 98us/step - loss: 1.4655 - acc: 0.4855 - val_loss: 1.5884 - val_acc: 0.4415\n",
      "Epoch 7/25\n",
      "50000/50000 [==============================] - 5s 98us/step - loss: 1.4266 - acc: 0.4995 - val_loss: 1.5589 - val_acc: 0.4552\n",
      "Epoch 8/25\n",
      "50000/50000 [==============================] - 5s 97us/step - loss: 1.3946 - acc: 0.5127 - val_loss: 1.5354 - val_acc: 0.4565\n",
      "Epoch 9/25\n",
      "50000/50000 [==============================] - 5s 101us/step - loss: 1.3663 - acc: 0.5213 - val_loss: 1.5282 - val_acc: 0.4569\n",
      "Epoch 10/25\n",
      "50000/50000 [==============================] - 5s 99us/step - loss: 1.3375 - acc: 0.5319 - val_loss: 1.5082 - val_acc: 0.4691\n",
      "Epoch 11/25\n",
      "50000/50000 [==============================] - 5s 97us/step - loss: 1.3111 - acc: 0.5425 - val_loss: 1.4988 - val_acc: 0.4705\n",
      "Epoch 12/25\n",
      "50000/50000 [==============================] - 5s 105us/step - loss: 1.2877 - acc: 0.5504 - val_loss: 1.5001 - val_acc: 0.4738\n",
      "Epoch 13/25\n",
      "50000/50000 [==============================] - 5s 98us/step - loss: 1.2656 - acc: 0.5579 - val_loss: 1.4964 - val_acc: 0.4764\n",
      "Epoch 14/25\n",
      "50000/50000 [==============================] - 5s 103us/step - loss: 1.2450 - acc: 0.5681 - val_loss: 1.4745 - val_acc: 0.4857\n",
      "Epoch 15/25\n",
      "50000/50000 [==============================] - 5s 98us/step - loss: 1.2225 - acc: 0.5742 - val_loss: 1.4757 - val_acc: 0.4845\n",
      "Epoch 16/25\n",
      "50000/50000 [==============================] - 5s 99us/step - loss: 1.1992 - acc: 0.5840 - val_loss: 1.4624 - val_acc: 0.4906\n",
      "Epoch 17/25\n",
      "50000/50000 [==============================] - 5s 98us/step - loss: 1.1792 - acc: 0.5924 - val_loss: 1.4521 - val_acc: 0.4920\n",
      "Epoch 18/25\n",
      "50000/50000 [==============================] - 5s 97us/step - loss: 1.1618 - acc: 0.5979 - val_loss: 1.4626 - val_acc: 0.4868\n",
      "Epoch 19/25\n",
      "50000/50000 [==============================] - 5s 99us/step - loss: 1.1424 - acc: 0.6080 - val_loss: 1.4553 - val_acc: 0.4911\n",
      "Epoch 20/25\n",
      "50000/50000 [==============================] - 5s 99us/step - loss: 1.1243 - acc: 0.6147 - val_loss: 1.4592 - val_acc: 0.4931\n",
      "Epoch 21/25\n",
      "50000/50000 [==============================] - 5s 98us/step - loss: 1.1059 - acc: 0.6211 - val_loss: 1.4606 - val_acc: 0.4958\n",
      "Epoch 22/25\n",
      "50000/50000 [==============================] - 5s 104us/step - loss: 1.0871 - acc: 0.6271 - val_loss: 1.4437 - val_acc: 0.4977\n",
      "Epoch 23/25\n",
      "50000/50000 [==============================] - 6s 112us/step - loss: 1.0706 - acc: 0.6347 - val_loss: 1.4482 - val_acc: 0.4917\n",
      "Epoch 24/25\n",
      "50000/50000 [==============================] - 5s 99us/step - loss: 1.0514 - acc: 0.6420 - val_loss: 1.4416 - val_acc: 0.5018\n",
      "Epoch 25/25\n",
      "50000/50000 [==============================] - 5s 100us/step - loss: 1.0359 - acc: 0.6462 - val_loss: 1.4636 - val_acc: 0.4912\n"
     ]
    }
   ],
   "source": [
    "model = build_mlp(input_shape=x_train.shape[1:])\n",
    "model.summary()\n",
    "optimizer = keras.optimizers.SGD(lr=LEARNING_RATE, nesterov=True, momentum=MOMENTUM)\n",
    "model.compile(loss=\"categorical_crossentropy\", metrics=[\"accuracy\"], optimizer=optimizer)\n",
    "\n",
    "\"\"\"Code Here\n",
    "將 callbacks 放入模型訓練流程中\n",
    "\"\"\"\n",
    "model.fit(x_train, y_train, \n",
    "          epochs=EPOCHS, \n",
    "          batch_size=BATCH_SIZE, \n",
    "          validation_data=(x_test, y_test), \n",
    "          shuffle=True,\n",
    "          callbacks=[rec_tptn]\n",
    "         )\n",
    "\n",
    "# Collect results\n",
    "train_loss = model.history.history[\"loss\"]\n",
    "valid_loss = model.history.history[\"val_loss\"]\n",
    "train_acc = model.history.history[\"acc\"]\n",
    "valid_acc = model.history.history[\"val_acc\"]\n",
    "\n",
    "\"\"\"Code Here\n",
    "將 tp/tn 從訓練完的模型中取出\n",
    "\"\"\"\n",
    "valid_tp = model.history.history['true_positives']\n",
    "valid_tn = model.history.history['true_negatives']"
   ]
  },
  {
   "cell_type": "code",
   "execution_count": 9,
   "metadata": {},
   "outputs": [
    {
     "data": {
      "image/png": "[encoded data removed]",
      "text/plain": [
       "<Figure size 432x288 with 1 Axes>"
      ]
     },
     "metadata": {
      "needs_background": "light"
     },
     "output_type": "display_data"
    },
    {
     "data": {
      "image/png": "[encoded data removed]",
      "text/plain": [
       "<Figure size 432x288 with 1 Axes>"
      ]
     },
     "metadata": {
      "needs_background": "light"
     },
     "output_type": "display_data"
    },
    {
     "data": {
      "image/png": "[encoded data removed]",
      "text/plain": [
       "<Figure size 432x288 with 1 Axes>"
      ]
     },
     "metadata": {
      "needs_background": "light"
     },
     "output_type": "display_data"
    }
   ],
   "source": [
    "import matplotlib.pyplot as plt\n",
    "%matplotlib inline\n",
    "\n",
    "plt.plot(range(len(train_loss)), train_loss, label=\"train loss\")\n",
    "plt.plot(range(len(valid_loss)), valid_loss, label=\"valid loss\")\n",
    "plt.legend()\n",
    "plt.title(\"Loss\")\n",
    "plt.show()\n",
    "\n",
    "plt.plot(range(len(train_acc)), train_acc, label=\"train accuracy\")\n",
    "plt.plot(range(len(valid_acc)), valid_acc, label=\"valid accuracy\")\n",
    "plt.legend()\n",
    "plt.title(\"Accuracy\")\n",
    "plt.show()\n",
    "\n",
    "plt.plot(range(len(valid_tp)), valid_tp, label=\"valid tp\", color=\"navy\")\n",
    "plt.plot(range(len(valid_tn)), valid_tn, label=\"valid tn\", color=\"red\")\n",
    "plt.legend()\n",
    "plt.title(\"True positives and True Negatives\")\n",
    "plt.show()\n"
   ]
  },
  {
   "cell_type": "code",
   "execution_count": null,
   "metadata": {},
   "outputs": [],
   "source": []
  }
 ],
 "metadata": {
  "kernelspec": {
   "display_name": "Python 3",
   "language": "python",
   "name": "python3"
  },
  "language_info": {
   "codemirror_mode": {
    "name": "ipython",
    "version": 3
   },
   "file_extension": ".py",
   "mimetype": "text/x-python",
   "name": "python",
   "nbconvert_exporter": "python",
   "pygments_lexer": "ipython3",
   "version": "3.7.3"
  }
 },
 "nbformat": 4,
 "nbformat_minor": 2
}
