{
 "cells": [
  {
   "cell_type": "markdown",
   "metadata": {},
   "source": [
    "## Work\n",
    "1. 請嘗試將 preproc_x 替換成以每筆資料的 min/max 進行標準化至 -1 ~ 1 間，再進行訓練\n",
    "2. 請嘗試將 mlp 疊更深 (e.g 5~10 層)，進行訓練後觀察 learning curve 的走勢\n",
    "3. (optional) 請改用 GPU 進行訓練 (如果你有 GPU 的話)，比較使用 CPU 與 GPU 的訓練速度"
   ]
  },
  {
   "cell_type": "code",
   "execution_count": 1,
   "metadata": {},
   "outputs": [],
   "source": [
    "## \n",
    "\"\"\"\n",
    "Your code here (optional)\n",
    "確認硬體資源\n",
    "\"\"\"\n"
   ]
  },
  {
   "cell_type": "code",
   "execution_count": 1,
   "metadata": {},
   "outputs": [
    {
     "name": "stderr",
     "output_type": "stream",
     "text": [
      "Using TensorFlow backend.\n"
     ]
    }
   ],
   "source": [
    "import os\n",
    "import keras\n",
    "\n",
    "# 請嘗試設定 GPU：os.environ\n"
   ]
  },
  {
   "cell_type": "code",
   "execution_count": 2,
   "metadata": {},
   "outputs": [],
   "source": [
    "train, test = keras.datasets.cifar10.load_data()"
   ]
  },
  {
   "cell_type": "code",
   "execution_count": 3,
   "metadata": {},
   "outputs": [],
   "source": [
    "## 資料前處理\n",
    "\"\"\"\n",
    "Your code here\n",
    "\"\"\"\n",
    "def preproc_x(x, flatten=True):\n",
    "    x = 2*(((x - x.min()) / (x.max() - x.min()))-0.5)\n",
    "    if flatten:\n",
    "        x = x.reshape((len(x), -1))\n",
    "    return x\n",
    "    \n",
    "\n",
    "def preproc_y(y, num_classes=10):\n",
    "    if y.shape[-1] == 1:\n",
    "        y = keras.utils.to_categorical(y, num_classes)\n",
    "    return y    "
   ]
  },
  {
   "cell_type": "code",
   "execution_count": 4,
   "metadata": {},
   "outputs": [],
   "source": [
    "x_train, y_train = train\n",
    "x_test, y_test = test\n",
    "\n",
    "# Preproc the inputs\n",
    "x_train = preproc_x(x_train)\n",
    "x_test = preproc_x(x_test)\n",
    "\n",
    "# Preprc the outputs\n",
    "y_train = preproc_y(y_train)\n",
    "y_test = preproc_y(y_test)"
   ]
  },
  {
   "cell_type": "code",
   "execution_count": 5,
   "metadata": {},
   "outputs": [
    {
     "name": "stderr",
     "output_type": "stream",
     "text": [
      "WARNING: Logging before flag parsing goes to stderr.\n",
      "W0714 13:24:29.501166 12932 deprecation_wrapper.py:119] From C:\\Users\\a2279\\.conda\\envs\\tensorflow\\lib\\site-packages\\keras\\backend\\tensorflow_backend.py:74: The name tf.get_default_graph is deprecated. Please use tf.compat.v1.get_default_graph instead.\n",
      "\n",
      "W0714 13:24:31.124757 12932 deprecation_wrapper.py:119] From C:\\Users\\a2279\\.conda\\envs\\tensorflow\\lib\\site-packages\\keras\\backend\\tensorflow_backend.py:517: The name tf.placeholder is deprecated. Please use tf.compat.v1.placeholder instead.\n",
      "\n",
      "W0714 13:24:31.160608 12932 deprecation_wrapper.py:119] From C:\\Users\\a2279\\.conda\\envs\\tensorflow\\lib\\site-packages\\keras\\backend\\tensorflow_backend.py:4138: The name tf.random_uniform is deprecated. Please use tf.random.uniform instead.\n",
      "\n"
     ]
    },
    {
     "name": "stdout",
     "output_type": "stream",
     "text": [
      "_________________________________________________________________\n",
      "Layer (type)                 Output Shape              Param #   \n",
      "=================================================================\n",
      "input_1 (InputLayer)         (None, 3072)              0         \n",
      "_________________________________________________________________\n",
      "hidden_layer1 (Dense)        (None, 512)               1573376   \n",
      "_________________________________________________________________\n",
      "hidden_layer2 (Dense)        (None, 256)               131328    \n",
      "_________________________________________________________________\n",
      "hidden_layer3 (Dense)        (None, 128)               32896     \n",
      "_________________________________________________________________\n",
      "hidden_layer4 (Dense)        (None, 128)               16512     \n",
      "_________________________________________________________________\n",
      "hidden_layer5 (Dense)        (None, 128)               16512     \n",
      "_________________________________________________________________\n",
      "output (Dense)               (None, 10)                1290      \n",
      "=================================================================\n",
      "Total params: 1,771,914\n",
      "Trainable params: 1,771,914\n",
      "Non-trainable params: 0\n",
      "_________________________________________________________________\n"
     ]
    }
   ],
   "source": [
    "\"\"\"Code Here\n",
    "建立你的神經網路\n",
    "\"\"\"\n",
    "def build_mlp(input_shape, output_units=10, num_neurons=[512, 256, 128, 128, 128]):\n",
    "    input_layer = keras.layers.Input(input_shape)\n",
    "    \n",
    "    for i, n_units in enumerate(num_neurons):\n",
    "        if i == 0:\n",
    "            x = keras.layers.Dense(units=n_units, activation=\"relu\", name=\"hidden_layer\"+str(i+1))(input_layer)\n",
    "        else:\n",
    "            x = keras.layers.Dense(units=n_units, activation=\"relu\", name=\"hidden_layer\"+str(i+1))(x)\n",
    "    \n",
    "    out = keras.layers.Dense(units=output_units, activation=\"softmax\", name=\"output\")(x)\n",
    "    \n",
    "    model = keras.models.Model(inputs=[input_layer], outputs=[out])\n",
    "    return model\n",
    "\n",
    "model = build_mlp(input_shape=x_train.shape[1:])\n",
    "\n",
    "model.summary()"
   ]
  },
  {
   "cell_type": "code",
   "execution_count": 6,
   "metadata": {},
   "outputs": [],
   "source": [
    "## 超參數設定\n",
    "LEARNING_RATE = 0.001\n",
    "EPOCHS = 100\n",
    "BATCH_SIZE = 256"
   ]
  },
  {
   "cell_type": "code",
   "execution_count": 7,
   "metadata": {},
   "outputs": [
    {
     "name": "stderr",
     "output_type": "stream",
     "text": [
      "W0714 13:24:54.145641 12932 deprecation_wrapper.py:119] From C:\\Users\\a2279\\.conda\\envs\\tensorflow\\lib\\site-packages\\keras\\optimizers.py:790: The name tf.train.Optimizer is deprecated. Please use tf.compat.v1.train.Optimizer instead.\n",
      "\n",
      "W0714 13:24:54.153614 12932 deprecation_wrapper.py:119] From C:\\Users\\a2279\\.conda\\envs\\tensorflow\\lib\\site-packages\\keras\\backend\\tensorflow_backend.py:3295: The name tf.log is deprecated. Please use tf.math.log instead.\n",
      "\n"
     ]
    }
   ],
   "source": [
    "optimizer = keras.optimizers.Adam(lr=LEARNING_RATE)\n",
    "model.compile(loss=\"categorical_crossentropy\", metrics=[\"accuracy\"], optimizer=optimizer)"
   ]
  },
  {
   "cell_type": "code",
   "execution_count": 8,
   "metadata": {},
   "outputs": [
    {
     "name": "stderr",
     "output_type": "stream",
     "text": [
      "W0714 13:24:55.012035 12932 deprecation.py:323] From C:\\Users\\a2279\\.conda\\envs\\tensorflow\\lib\\site-packages\\tensorflow\\python\\ops\\math_grad.py:1250: add_dispatch_support.<locals>.wrapper (from tensorflow.python.ops.array_ops) is deprecated and will be removed in a future version.\n",
      "Instructions for updating:\n",
      "Use tf.where in 2.0, which has the same broadcast rule as np.where\n",
      "W0714 13:24:55.237881 12932 deprecation_wrapper.py:119] From C:\\Users\\a2279\\.conda\\envs\\tensorflow\\lib\\site-packages\\keras\\backend\\tensorflow_backend.py:986: The name tf.assign_add is deprecated. Please use tf.compat.v1.assign_add instead.\n",
      "\n"
     ]
    },
    {
     "name": "stdout",
     "output_type": "stream",
     "text": [
      "Train on 50000 samples, validate on 10000 samples\n",
      "Epoch 1/100\n",
      "50000/50000 [==============================] - 39s 778us/step - loss: 1.6943 - acc: 0.3981 - val_loss: 1.5406 - val_acc: 0.4618\n",
      "Epoch 2/100\n",
      "50000/50000 [==============================] - 9s 187us/step - loss: 1.4712 - acc: 0.4799 - val_loss: 1.4698 - val_acc: 0.4793\n",
      "Epoch 3/100\n",
      "50000/50000 [==============================] - 9s 182us/step - loss: 1.3559 - acc: 0.5212 - val_loss: 1.4072 - val_acc: 0.5042\n",
      "Epoch 4/100\n",
      "50000/50000 [==============================] - 9s 179us/step - loss: 1.2583 - acc: 0.5550 - val_loss: 1.3765 - val_acc: 0.5175\n",
      "Epoch 5/100\n",
      "50000/50000 [==============================] - 9s 182us/step - loss: 1.1707 - acc: 0.5867 - val_loss: 1.4159 - val_acc: 0.5038\n",
      "Epoch 6/100\n",
      "50000/50000 [==============================] - 10s 193us/step - loss: 1.0974 - acc: 0.6124 - val_loss: 1.3632 - val_acc: 0.5294\n",
      "Epoch 7/100\n",
      "50000/50000 [==============================] - 11s 217us/step - loss: 1.0195 - acc: 0.6389 - val_loss: 1.3500 - val_acc: 0.5411\n",
      "Epoch 8/100\n",
      "50000/50000 [==============================] - 10s 196us/step - loss: 0.9452 - acc: 0.6652 - val_loss: 1.4165 - val_acc: 0.5344\n",
      "Epoch 9/100\n",
      "50000/50000 [==============================] - 9s 188us/step - loss: 0.8763 - acc: 0.6881 - val_loss: 1.4426 - val_acc: 0.5299\n",
      "Epoch 10/100\n",
      "50000/50000 [==============================] - 10s 193us/step - loss: 0.7984 - acc: 0.7158 - val_loss: 1.5287 - val_acc: 0.5315\n",
      "Epoch 11/100\n",
      "50000/50000 [==============================] - 10s 191us/step - loss: 0.7467 - acc: 0.7341 - val_loss: 1.5582 - val_acc: 0.5333\n",
      "Epoch 12/100\n",
      "50000/50000 [==============================] - 9s 190us/step - loss: 0.6813 - acc: 0.7569 - val_loss: 1.6094 - val_acc: 0.5263\n",
      "Epoch 13/100\n",
      "50000/50000 [==============================] - 10s 196us/step - loss: 0.6233 - acc: 0.7787 - val_loss: 1.6939 - val_acc: 0.5360\n",
      "Epoch 14/100\n",
      "50000/50000 [==============================] - 10s 197us/step - loss: 0.5711 - acc: 0.7963 - val_loss: 1.7524 - val_acc: 0.5275\n",
      "Epoch 15/100\n",
      "50000/50000 [==============================] - 11s 230us/step - loss: 0.5238 - acc: 0.8134 - val_loss: 1.8264 - val_acc: 0.5278\n",
      "Epoch 16/100\n",
      "50000/50000 [==============================] - 11s 226us/step - loss: 0.4847 - acc: 0.8279 - val_loss: 1.8954 - val_acc: 0.5265\n",
      "Epoch 17/100\n",
      "50000/50000 [==============================] - 12s 230us/step - loss: 0.4415 - acc: 0.8413 - val_loss: 2.0692 - val_acc: 0.5241\n",
      "Epoch 18/100\n",
      "50000/50000 [==============================] - 11s 223us/step - loss: 0.3975 - acc: 0.8592 - val_loss: 2.0502 - val_acc: 0.5312\n",
      "Epoch 19/100\n",
      "50000/50000 [==============================] - 11s 224us/step - loss: 0.3575 - acc: 0.8743 - val_loss: 2.2934 - val_acc: 0.5233\n",
      "Epoch 20/100\n",
      "50000/50000 [==============================] - 11s 229us/step - loss: 0.3465 - acc: 0.8788 - val_loss: 2.1981 - val_acc: 0.5324\n",
      "Epoch 21/100\n",
      "50000/50000 [==============================] - 11s 220us/step - loss: 0.3294 - acc: 0.8846 - val_loss: 2.3759 - val_acc: 0.5291\n",
      "Epoch 22/100\n",
      "50000/50000 [==============================] - 11s 223us/step - loss: 0.2953 - acc: 0.8956 - val_loss: 2.5326 - val_acc: 0.5264\n",
      "Epoch 23/100\n",
      "50000/50000 [==============================] - 11s 224us/step - loss: 0.2848 - acc: 0.9003 - val_loss: 2.5188 - val_acc: 0.5203\n",
      "Epoch 24/100\n",
      "50000/50000 [==============================] - 10s 208us/step - loss: 0.2681 - acc: 0.9081 - val_loss: 2.5852 - val_acc: 0.5175\n",
      "Epoch 25/100\n",
      "50000/50000 [==============================] - 10s 203us/step - loss: 0.2499 - acc: 0.9135 - val_loss: 2.7386 - val_acc: 0.5195\n",
      "Epoch 26/100\n",
      "50000/50000 [==============================] - 10s 203us/step - loss: 0.2518 - acc: 0.9117 - val_loss: 2.8179 - val_acc: 0.5161\n",
      "Epoch 27/100\n",
      "50000/50000 [==============================] - 10s 198us/step - loss: 0.2209 - acc: 0.9229 - val_loss: 2.8397 - val_acc: 0.5198\n",
      "Epoch 28/100\n",
      "50000/50000 [==============================] - 10s 198us/step - loss: 0.2145 - acc: 0.9256 - val_loss: 2.7474 - val_acc: 0.5197\n",
      "Epoch 29/100\n",
      "50000/50000 [==============================] - 10s 202us/step - loss: 0.2001 - acc: 0.9301 - val_loss: 2.9777 - val_acc: 0.5247\n",
      "Epoch 30/100\n",
      "50000/50000 [==============================] - 10s 196us/step - loss: 0.1931 - acc: 0.9330 - val_loss: 2.9097 - val_acc: 0.5297\n",
      "Epoch 31/100\n",
      "50000/50000 [==============================] - 10s 198us/step - loss: 0.1991 - acc: 0.9306 - val_loss: 3.0783 - val_acc: 0.5202\n",
      "Epoch 32/100\n",
      "50000/50000 [==============================] - 10s 199us/step - loss: 0.1984 - acc: 0.9317 - val_loss: 2.9238 - val_acc: 0.5243\n",
      "Epoch 33/100\n",
      "50000/50000 [==============================] - 10s 200us/step - loss: 0.1856 - acc: 0.9366 - val_loss: 3.0257 - val_acc: 0.5225\n",
      "Epoch 34/100\n",
      "50000/50000 [==============================] - 10s 199us/step - loss: 0.1740 - acc: 0.9400 - val_loss: 3.1151 - val_acc: 0.5298\n",
      "Epoch 35/100\n",
      "50000/50000 [==============================] - 10s 205us/step - loss: 0.1873 - acc: 0.9356 - val_loss: 2.9715 - val_acc: 0.5271\n",
      "Epoch 36/100\n",
      "50000/50000 [==============================] - 11s 211us/step - loss: 0.1619 - acc: 0.9441 - val_loss: 3.2384 - val_acc: 0.5164\n",
      "Epoch 37/100\n",
      "50000/50000 [==============================] - 11s 219us/step - loss: 0.1676 - acc: 0.9415 - val_loss: 3.2183 - val_acc: 0.5231\n",
      "Epoch 38/100\n",
      "50000/50000 [==============================] - 10s 203us/step - loss: 0.1571 - acc: 0.9460 - val_loss: 3.3053 - val_acc: 0.5267\n",
      "Epoch 39/100\n",
      "50000/50000 [==============================] - 10s 200us/step - loss: 0.1533 - acc: 0.9470 - val_loss: 3.3047 - val_acc: 0.5246\n",
      "Epoch 40/100\n",
      "50000/50000 [==============================] - 10s 207us/step - loss: 0.1522 - acc: 0.9481 - val_loss: 3.3081 - val_acc: 0.5203\n",
      "Epoch 41/100\n",
      "50000/50000 [==============================] - 10s 204us/step - loss: 0.1370 - acc: 0.9531 - val_loss: 3.4070 - val_acc: 0.5228\n",
      "Epoch 42/100\n",
      "50000/50000 [==============================] - 10s 195us/step - loss: 0.1645 - acc: 0.9444 - val_loss: 3.4246 - val_acc: 0.5218\n",
      "Epoch 43/100\n",
      "50000/50000 [==============================] - 10s 197us/step - loss: 0.1350 - acc: 0.9549 - val_loss: 3.3408 - val_acc: 0.5267\n",
      "Epoch 44/100\n",
      "50000/50000 [==============================] - 10s 196us/step - loss: 0.1132 - acc: 0.9621 - val_loss: 3.5045 - val_acc: 0.5238\n",
      "Epoch 45/100\n",
      "50000/50000 [==============================] - 10s 195us/step - loss: 0.1381 - acc: 0.9539 - val_loss: 3.4278 - val_acc: 0.5242\n",
      "Epoch 46/100\n",
      "50000/50000 [==============================] - 10s 206us/step - loss: 0.1228 - acc: 0.9587 - val_loss: 3.4434 - val_acc: 0.5237\n",
      "Epoch 47/100\n",
      "50000/50000 [==============================] - 10s 196us/step - loss: 0.1308 - acc: 0.9577 - val_loss: 3.4689 - val_acc: 0.5284\n",
      "Epoch 48/100\n",
      "50000/50000 [==============================] - 10s 201us/step - loss: 0.1252 - acc: 0.9580 - val_loss: 3.4609 - val_acc: 0.5305\n",
      "Epoch 49/100\n",
      "50000/50000 [==============================] - 10s 199us/step - loss: 0.1340 - acc: 0.9545 - val_loss: 3.6196 - val_acc: 0.5183\n",
      "Epoch 50/100\n",
      "50000/50000 [==============================] - 10s 199us/step - loss: 0.1313 - acc: 0.9557 - val_loss: 3.5071 - val_acc: 0.5191\n",
      "Epoch 51/100\n",
      "50000/50000 [==============================] - 10s 198us/step - loss: 0.1323 - acc: 0.9558 - val_loss: 3.5098 - val_acc: 0.5279\n",
      "Epoch 52/100\n",
      "50000/50000 [==============================] - 10s 200us/step - loss: 0.1015 - acc: 0.9662 - val_loss: 3.5828 - val_acc: 0.5254\n",
      "Epoch 53/100\n",
      "50000/50000 [==============================] - 10s 204us/step - loss: 0.1177 - acc: 0.9603 - val_loss: 3.6062 - val_acc: 0.5141\n",
      "Epoch 54/100\n",
      "50000/50000 [==============================] - 10s 198us/step - loss: 0.1250 - acc: 0.9591 - val_loss: 3.5842 - val_acc: 0.5201\n",
      "Epoch 55/100\n",
      "50000/50000 [==============================] - 10s 200us/step - loss: 0.1199 - acc: 0.9598 - val_loss: 3.5181 - val_acc: 0.5254\n",
      "Epoch 56/100\n",
      "50000/50000 [==============================] - 10s 196us/step - loss: 0.1037 - acc: 0.9654 - val_loss: 3.5524 - val_acc: 0.5250\n",
      "Epoch 57/100\n",
      "50000/50000 [==============================] - 10s 195us/step - loss: 0.1002 - acc: 0.9672 - val_loss: 3.6263 - val_acc: 0.5252\n",
      "Epoch 58/100\n",
      "50000/50000 [==============================] - 10s 201us/step - loss: 0.1031 - acc: 0.9661 - val_loss: 3.6009 - val_acc: 0.5288\n"
     ]
    },
    {
     "name": "stdout",
     "output_type": "stream",
     "text": [
      "Epoch 59/100\n",
      "50000/50000 [==============================] - 10s 194us/step - loss: 0.0843 - acc: 0.9724 - val_loss: 3.7650 - val_acc: 0.5241\n",
      "Epoch 60/100\n",
      "50000/50000 [==============================] - 9s 190us/step - loss: 0.1218 - acc: 0.9602 - val_loss: 3.5165 - val_acc: 0.5276\n",
      "Epoch 61/100\n",
      "50000/50000 [==============================] - 10s 196us/step - loss: 0.0963 - acc: 0.9683 - val_loss: 3.8168 - val_acc: 0.5241\n",
      "Epoch 62/100\n",
      "50000/50000 [==============================] - 10s 193us/step - loss: 0.1036 - acc: 0.9659 - val_loss: 3.7173 - val_acc: 0.5231\n",
      "Epoch 63/100\n",
      "50000/50000 [==============================] - 10s 191us/step - loss: 0.0991 - acc: 0.9677 - val_loss: 3.7192 - val_acc: 0.5244\n",
      "Epoch 64/100\n",
      "50000/50000 [==============================] - 10s 201us/step - loss: 0.1162 - acc: 0.9622 - val_loss: 3.5722 - val_acc: 0.5295\n",
      "Epoch 65/100\n",
      "50000/50000 [==============================] - 10s 201us/step - loss: 0.0990 - acc: 0.9677 - val_loss: 3.7170 - val_acc: 0.5222\n",
      "Epoch 66/100\n",
      "50000/50000 [==============================] - 11s 211us/step - loss: 0.0887 - acc: 0.9707 - val_loss: 3.7499 - val_acc: 0.5261\n",
      "Epoch 67/100\n",
      "50000/50000 [==============================] - 10s 198us/step - loss: 0.0778 - acc: 0.9744 - val_loss: 3.8310 - val_acc: 0.5209\n",
      "Epoch 68/100\n",
      "50000/50000 [==============================] - 10s 198us/step - loss: 0.0909 - acc: 0.9703 - val_loss: 3.7974 - val_acc: 0.5194\n",
      "Epoch 69/100\n",
      "50000/50000 [==============================] - 10s 199us/step - loss: 0.1022 - acc: 0.9673 - val_loss: 3.6919 - val_acc: 0.5246\n",
      "Epoch 70/100\n",
      "50000/50000 [==============================] - 10s 193us/step - loss: 0.1025 - acc: 0.9671 - val_loss: 3.8223 - val_acc: 0.5216\n",
      "Epoch 71/100\n",
      "50000/50000 [==============================] - 10s 193us/step - loss: 0.0929 - acc: 0.9693 - val_loss: 3.7643 - val_acc: 0.5268\n",
      "Epoch 72/100\n",
      "50000/50000 [==============================] - 10s 196us/step - loss: 0.0857 - acc: 0.9718 - val_loss: 3.7147 - val_acc: 0.5280\n",
      "Epoch 73/100\n",
      "50000/50000 [==============================] - 10s 199us/step - loss: 0.0713 - acc: 0.9767 - val_loss: 3.8668 - val_acc: 0.5253\n",
      "Epoch 74/100\n",
      "50000/50000 [==============================] - 10s 195us/step - loss: 0.0970 - acc: 0.9688 - val_loss: 3.7709 - val_acc: 0.5229\n",
      "Epoch 75/100\n",
      "50000/50000 [==============================] - 10s 201us/step - loss: 0.0976 - acc: 0.9685 - val_loss: 3.7309 - val_acc: 0.5325\n",
      "Epoch 76/100\n",
      "50000/50000 [==============================] - 10s 197us/step - loss: 0.0878 - acc: 0.9720 - val_loss: 3.7255 - val_acc: 0.5289\n",
      "Epoch 77/100\n",
      "50000/50000 [==============================] - 10s 203us/step - loss: 0.0868 - acc: 0.9722 - val_loss: 3.7195 - val_acc: 0.5220\n",
      "Epoch 78/100\n",
      "50000/50000 [==============================] - 10s 197us/step - loss: 0.0664 - acc: 0.9779 - val_loss: 3.8149 - val_acc: 0.5220\n",
      "Epoch 79/100\n",
      "50000/50000 [==============================] - 10s 197us/step - loss: 0.0802 - acc: 0.9742 - val_loss: 3.8492 - val_acc: 0.5194\n",
      "Epoch 80/100\n",
      "50000/50000 [==============================] - 10s 197us/step - loss: 0.1056 - acc: 0.9663 - val_loss: 3.6705 - val_acc: 0.5217\n",
      "Epoch 81/100\n",
      "50000/50000 [==============================] - 10s 199us/step - loss: 0.0784 - acc: 0.9747 - val_loss: 3.7098 - val_acc: 0.5292\n",
      "Epoch 82/100\n",
      "50000/50000 [==============================] - 10s 194us/step - loss: 0.0792 - acc: 0.9751 - val_loss: 3.8785 - val_acc: 0.5247\n",
      "Epoch 83/100\n",
      "50000/50000 [==============================] - 10s 198us/step - loss: 0.0726 - acc: 0.9764 - val_loss: 3.8438 - val_acc: 0.5300\n",
      "Epoch 84/100\n",
      "50000/50000 [==============================] - 10s 198us/step - loss: 0.0956 - acc: 0.9698 - val_loss: 3.9004 - val_acc: 0.5278\n",
      "Epoch 85/100\n",
      "50000/50000 [==============================] - 10s 197us/step - loss: 0.0761 - acc: 0.9753 - val_loss: 3.8646 - val_acc: 0.5299\n",
      "Epoch 86/100\n",
      "50000/50000 [==============================] - 10s 203us/step - loss: 0.0671 - acc: 0.9785 - val_loss: 3.9367 - val_acc: 0.5266\n",
      "Epoch 87/100\n",
      "50000/50000 [==============================] - 10s 197us/step - loss: 0.0824 - acc: 0.9735 - val_loss: 3.9500 - val_acc: 0.5241\n",
      "Epoch 88/100\n",
      "50000/50000 [==============================] - 10s 199us/step - loss: 0.0674 - acc: 0.9794 - val_loss: 3.9306 - val_acc: 0.5226\n",
      "Epoch 89/100\n",
      "50000/50000 [==============================] - 10s 205us/step - loss: 0.0993 - acc: 0.9686 - val_loss: 3.7059 - val_acc: 0.5210\n",
      "Epoch 90/100\n",
      "50000/50000 [==============================] - 10s 199us/step - loss: 0.0799 - acc: 0.9749 - val_loss: 3.9039 - val_acc: 0.5270\n",
      "Epoch 91/100\n",
      "50000/50000 [==============================] - 10s 197us/step - loss: 0.0733 - acc: 0.9760 - val_loss: 3.8868 - val_acc: 0.5171\n",
      "Epoch 92/100\n",
      "50000/50000 [==============================] - 10s 199us/step - loss: 0.0736 - acc: 0.9769 - val_loss: 3.9000 - val_acc: 0.5295\n",
      "Epoch 93/100\n",
      "50000/50000 [==============================] - 10s 198us/step - loss: 0.0745 - acc: 0.9762 - val_loss: 3.8439 - val_acc: 0.5281\n",
      "Epoch 94/100\n",
      "50000/50000 [==============================] - 10s 201us/step - loss: 0.0751 - acc: 0.9756 - val_loss: 3.8427 - val_acc: 0.5304\n",
      "Epoch 95/100\n",
      "50000/50000 [==============================] - 10s 199us/step - loss: 0.0695 - acc: 0.9774 - val_loss: 3.7904 - val_acc: 0.5184\n",
      "Epoch 96/100\n",
      "50000/50000 [==============================] - 10s 202us/step - loss: 0.0719 - acc: 0.9773 - val_loss: 3.8448 - val_acc: 0.5282\n",
      "Epoch 97/100\n",
      "50000/50000 [==============================] - 10s 200us/step - loss: 0.0614 - acc: 0.9796 - val_loss: 3.8973 - val_acc: 0.5252\n",
      "Epoch 98/100\n",
      "50000/50000 [==============================] - 10s 199us/step - loss: 0.0676 - acc: 0.9777 - val_loss: 3.9832 - val_acc: 0.5225\n",
      "Epoch 99/100\n",
      "50000/50000 [==============================] - 10s 207us/step - loss: 0.0737 - acc: 0.9772 - val_loss: 3.9289 - val_acc: 0.5254\n",
      "Epoch 100/100\n",
      "50000/50000 [==============================] - 10s 199us/step - loss: 0.0586 - acc: 0.9810 - val_loss: 3.9325 - val_acc: 0.5267\n"
     ]
    },
    {
     "data": {
      "text/plain": [
       "<keras.callbacks.History at 0x22fc1084a20>"
      ]
     },
     "execution_count": 8,
     "metadata": {},
     "output_type": "execute_result"
    }
   ],
   "source": [
    "model.fit(x_train, y_train, \n",
    "          epochs=EPOCHS, \n",
    "          batch_size=BATCH_SIZE, \n",
    "          validation_data=(x_test, y_test), \n",
    "          shuffle=True)"
   ]
  },
  {
   "cell_type": "code",
   "execution_count": 10,
   "metadata": {},
   "outputs": [
    {
     "data": {
      "image/png": "[encoded data removed]",
      "text/plain": [
       "<Figure size 432x288 with 1 Axes>"
      ]
     },
     "metadata": {
      "needs_background": "light"
     },
     "output_type": "display_data"
    }
   ],
   "source": [
    "import matplotlib.pyplot as plt\n",
    "\n",
    "\n",
    "train_loss = model.history.history[\"loss\"]\n",
    "valid_loss = model.history.history[\"val_loss\"]\n",
    "\n",
    "train_acc = model.history.history[\"acc\"]\n",
    "valid_acc = model.history.history[\"val_acc\"]\n",
    "\n",
    "plt.plot(range(len(train_loss)), train_loss, label=\"train loss\")\n",
    "plt.plot(range(len(valid_loss)), valid_loss, label=\"valid loss\")\n",
    "plt.legend()\n",
    "plt.title(\"Loss\")\n",
    "plt.show()\n"
   ]
  },
  {
   "cell_type": "code",
   "execution_count": 11,
   "metadata": {},
   "outputs": [
    {
     "data": {
      "image/png": "[encoded data removed]",
      "text/plain": [
       "<Figure size 432x288 with 1 Axes>"
      ]
     },
     "metadata": {
      "needs_background": "light"
     },
     "output_type": "display_data"
    }
   ],
   "source": [
    "\n",
    "plt.plot(range(len(train_acc)), train_acc, label=\"train accuracy\")\n",
    "plt.plot(range(len(valid_acc)), valid_acc, label=\"valid accuracy\")\n",
    "plt.legend()\n",
    "plt.title(\"Accuracy\")\n",
    "plt.show()"
   ]
  },
  {
   "cell_type": "code",
   "execution_count": null,
   "metadata": {},
   "outputs": [],
   "source": []
  }
 ],
 "metadata": {
  "kernelspec": {
   "display_name": "Python 3",
   "language": "python",
   "name": "python3"
  },
  "language_info": {
   "codemirror_mode": {
    "name": "ipython",
    "version": 3
   },
   "file_extension": ".py",
   "mimetype": "text/x-python",
   "name": "python",
   "nbconvert_exporter": "python",
   "pygments_lexer": "ipython3",
   "version": "3.7.3"
  }
 },
 "nbformat": 4,
 "nbformat_minor": 2
}
